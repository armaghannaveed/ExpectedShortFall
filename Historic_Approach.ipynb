{
 "cells": [
  {
   "cell_type": "code",
   "execution_count": 1,
   "id": "5603505b-0354-46d5-b968-b31c1eefffa9",
   "metadata": {},
   "outputs": [],
   "source": [
    "import matplotlib.pyplot as plt\n",
    "from datetime import datetime\n",
    "import pandas as pd\n",
    "import random\n",
    "import numpy as np\n",
    "import yfinance as yf # ticker data\n",
    "from pandas_datareader import data as pdr # market proxy and treasury rates data\n",
    "import datetime as dt\n",
    "from numpy import nan\n",
    "from time import sleep\n",
    "import concurrent.futures\n",
    "from functools import reduce\n",
    "from scipy.stats import norm\n",
    "from sklearn.preprocessing import MinMaxScaler\n",
    "from sklearn.metrics import mean_squared_error\n",
    "import scipy\n",
    "import time"
   ]
  },
  {
   "cell_type": "code",
   "execution_count": 94,
   "id": "a8024523-56ca-4c9c-99c9-95041885eb64",
   "metadata": {},
   "outputs": [
    {
     "name": "stdout",
     "output_type": "stream",
     "text": [
      "         Permno Ticker        Date   Returns\n",
      "0         10026   JJSF  2022-01-03  0.007344\n",
      "1         10026   JJSF  2022-01-04 -0.003582\n",
      "2         10026   JJSF  2022-01-05 -0.003406\n",
      "3         10026   JJSF  2022-01-06 -0.000316\n",
      "4         10026   JJSF  2022-01-07  0.004052\n",
      "...         ...    ...         ...       ...\n",
      "2391745   93436   TSLA  2022-12-23 -0.017551\n",
      "2391746   93436   TSLA  2022-12-27 -0.114089\n",
      "2391747   93436   TSLA  2022-12-28  0.033089\n",
      "2391748   93436   TSLA  2022-12-29  0.080827\n",
      "2391749   93436   TSLA  2022-12-30  0.011164\n",
      "\n",
      "[2391750 rows x 4 columns]\n"
     ]
    }
   ],
   "source": [
    "from database import DatabaseUBCTG\n",
    "db = DatabaseUBCTG()\n",
    "df = db.get_returns_universe(start=\"2022-01-01\", end=\"2022-12-31\")\n",
    "print(df)"
   ]
  },
  {
   "cell_type": "code",
   "execution_count": 4,
   "id": "f91bcf05-1dfd-4d09-a290-1bbed410a563",
   "metadata": {},
   "outputs": [],
   "source": [
    "# Convert the date column to datetime if it's not already\n",
    "# df['Date'] = pd.to_datetime(df['Date'])\n",
    "\n",
    "# Filter out rows before January 1, 2022\n",
    "# filtered_df = df[df['Date'] >= '2022-01-01']\n",
    "# Filter out rows that don't have data from December 30, 2022\n",
    "# filtered_df = df[df['Date'] == '2022-12-30']"
   ]
  },
  {
   "cell_type": "code",
   "execution_count": 6,
   "id": "609471af-d99a-419c-ba9f-4c66c70e4281",
   "metadata": {},
   "outputs": [
    {
     "name": "stdout",
     "output_type": "stream",
     "text": [
      "['JJSF' 'ELA' 'PLXS' ... 'CBOE' 'SANW' 'TSLA']\n",
      "10285\n"
     ]
    }
   ],
   "source": [
    "unique_tickers = df['Ticker'].unique()\n",
    "print((unique_tickers))\n",
    "print(len(unique_tickers))"
   ]
  },
  {
   "cell_type": "code",
   "execution_count": 7,
   "id": "938ff2df-5f03-411f-9b33-cda2867a23e1",
   "metadata": {},
   "outputs": [],
   "source": [
    "# Convert the date column to datetime if it's not already\n",
    "df['Date'] = pd.to_datetime(df['Date'])\n",
    "\n",
    "# Create a mask for tickers with 0 or NaN values between Jan 1, 2022, and Dec 30, 2022\\n\",\n",
    "mask = ((df['Date'] >= '2022-01-01') & (df['Date'] <= '2022-12-30')) & (df.isin([np.nan]).any(axis=1))\n",
    "\n",
    "# Get tickers to filter out\n",
    "tickers_to_filter = df[mask]['Ticker'].unique()\n",
    "\n",
    "# Filter the DataFrame to exclude rows with tickers having NaN values\n",
    "filtered_df = df[~df['Ticker'].isin(tickers_to_filter)]"
   ]
  },
  {
   "cell_type": "code",
   "execution_count": 10,
   "id": "9b3d0397-c917-4631-be98-5bacc7bb58d3",
   "metadata": {},
   "outputs": [
    {
     "name": "stdout",
     "output_type": "stream",
     "text": [
      "['RSXJ' None 'AMPE' 'YNDX' 'AREN' 'PME' 'QIWI' 'BLUE' 'AAMC' 'TMBR' 'MESO'\n",
      " 'EVTV' 'ONE' 'BBIG' 'HHR' 'CCAC' 'OPT' 'OZON' 'BTMD' 'AFAQ' 'PLL' 'GDEV'\n",
      " 'ARBK' 'AHI' 'CIAN' 'RESI' 'HOTL' 'TPG' 'FGI' 'CRDO' 'CEG' 'ALOR' 'ALSA'\n",
      " 'AMLX' 'APCX' 'APXI' 'AZ' 'BIOS' 'BLEU' 'BOCN' 'BPAC' 'BRFH' 'BRKH'\n",
      " 'CFSB' 'CINC' 'CISO' 'CMCA' 'CNGL' 'CREC' 'DAOO' 'DCFC' 'DMAT' 'ENCP'\n",
      " 'FEXD' 'FXCO' 'GDNR' 'GEEX' 'GFGD' 'GGAA' 'HAIA' 'HILS' 'HORI' 'HOUR'\n",
      " 'IDAI' 'IGTA' 'IOAC' 'JWAC' 'KACL' 'KSCP' 'LFAC' 'LGST' 'MAAQ' 'NSTS'\n",
      " 'NVAC' 'NZRO' 'OLIT' 'RNER' 'ROCL' 'SATL' 'TCHI' 'TGAA' 'TKLF' 'TLGY'\n",
      " 'UMMA' 'UTAA' 'VHNA' 'VIGL' 'VMGA' 'WTMA' 'XDNA' 'XPDB' 'ZING' 'SAMT'\n",
      " 'SAGP' 'SIXJ' 'AVSC' 'ATEK' 'BRD' 'CWC' 'FLTN' 'RSEE' 'TRDF' 'DMA' 'EVEN'\n",
      " 'ONG' 'FNTC' 'WEIX' 'SEA' 'MNTN' 'BNGE' 'GAST' 'XDJA' 'XTJA' 'XBJA'\n",
      " 'QTJA' 'IRRX' 'RJAC' 'JBBB' 'FLDZ' 'NETC' 'IUSA' 'PAXS' 'PACI' 'REMG'\n",
      " 'RDMX' 'ESIX' 'PUNK' 'SUAC' 'EAFD' 'EMGD' 'RTYD' 'PORT' 'UPAR' 'TCOA'\n",
      " 'VZLA' 'IFIN' 'NFNT' 'WEL' 'MTVC' 'SCUA' 'STET' 'SGHC' 'ZIMV' 'ACLX'\n",
      " 'AHRN' 'AIB' 'ANGH' 'AOGO' 'AREB' 'BRAC' 'BWV' 'CEAD' 'CFFS' 'CITE'\n",
      " 'COSM' 'DRCT' 'EMLD' 'FRBN' 'GMFI' 'HTCR' 'IVCB' 'IVCP' 'IXHL' 'LSPR'\n",
      " 'MHUA' 'MODD' 'MTEK' 'NVCT' 'NVX' 'PABU' 'PRLH' 'RCAC' 'SAGA' 'SBFM'\n",
      " 'SCRM' 'SKYX' 'SMFL' 'SSIC' 'SZZL' 'TCBP' 'TGAN' 'VBOC' 'VIVK' 'WGMI'\n",
      " 'LETB' 'IWIN' 'ADRT' 'BRCC' 'BRBR' 'XHYE' 'XHYC' 'XHYD' 'XHYF' 'XHYH'\n",
      " 'XHYT' 'XHYI' 'BFIX' 'CXAC' 'CGXU' 'CGGR' 'CGUS' 'CGDV' 'CGGO' 'CGCP'\n",
      " 'RLTY' 'HYRM' 'DFSV' 'DFAR' 'DUHP' 'GFOF' 'PSYK' 'NETZ' 'FSYD' 'DJIA'\n",
      " 'GEMD' 'GCLN' 'WINN' 'HGER' 'HAPY' 'WRND' 'LRND' 'MRND' 'BUFB' 'CSH'\n",
      " 'IRBA' 'MDV' 'RMMZ' 'PRAY' 'HYBL' 'AGGH' 'CDX' 'CLSE' 'DGIN' 'WBAT'\n",
      " 'APCA' 'BFAC' 'EVE' 'SHAP' 'EMBC' 'ESAB' 'ACAB' 'ACAX' 'AKAN' 'ANTX'\n",
      " 'ASCA' 'ATAK' 'BWAQ' 'CSLM' 'DAM' 'DRTS' 'DUET' 'EKG' 'FEAM' 'GHIX'\n",
      " 'GMGI' 'HCMA' 'ITAQ' 'KYCH' 'LATG' 'LCFY' 'LIVB' 'MURF' 'POET' 'PPYA'\n",
      " 'RVSN' 'SGHL' 'TETE' 'ZTEK' 'ROCI' 'AVSU' 'AVSD' 'AVSE' 'BYN' 'RHCB'\n",
      " 'BBUC' 'TACK' 'SEMI' 'DO' 'DIHP' 'DFIS' 'DISV' 'DFIC' 'MSTQ' 'EP' 'CRIT'\n",
      " 'GLOV' 'HMA' 'PSTP' 'BSTP' 'CHGX' 'IBHI' 'IBHH' 'TGR' 'KNSW' 'KGHG'\n",
      " 'IPDP' 'IPPP' 'MGLD' 'IDR' 'GDVD' 'VERS' 'CTA' 'STRY' 'HAUS' 'RPHS'\n",
      " 'OACP' 'SVIX' 'UVIX' 'GDE' 'AXAC' 'WNNR' 'GAQ' 'PGRU' 'VCXB' 'ALLG' 'WBD'\n",
      " 'EE' 'UAV' 'CRYP' 'DFEM' 'DFEV' 'DEHP' 'TIPD' 'TIPL' 'DNBD' 'DCPE' 'INQQ'\n",
      " 'FSLD' 'FSBD' 'FEEM' 'GUSA' 'HNRA' 'IBLC' 'JCPI' 'DC' 'KSET' 'WEED'\n",
      " 'NBCT' 'NBDS' 'NBCC' 'FMCX' 'SUPL' 'MBNE' 'URNM' 'GNS' 'ACON' 'ARVR'\n",
      " 'BLTE' 'BYNO' 'CLIN' 'CPAQ' 'CRGE' 'ELBM' 'EVGR' 'EVMT' 'FDIG' 'FGMC'\n",
      " 'FMET' 'FTII' 'GDST' 'GENQ' 'GGR' 'GRNR' 'GSRM' 'HLVX' 'IVDA' 'IVEG'\n",
      " 'JCSE' 'JGGC' 'JMSB' 'LBBB' 'NUTX' 'NZUS' 'ODDS' 'OST' 'PWUP' 'RACY'\n",
      " 'RFAC' 'RWOD' 'SHUA' 'SOUN' 'SPCM' 'STSS' 'SWVL' 'TNON' 'VMCA' 'VR'\n",
      " 'WAVS' 'XPON' 'AZPN' 'PFHC' 'BGXX' 'MNBD' 'MOOD' 'AUST' 'BLCO' 'XBB' 'XB'\n",
      " 'XCCC' 'DFUV' 'MPAY' 'GABF' 'GDIV' 'IAUX' 'JMEE' 'JPRE' 'TILL' 'STGF'\n",
      " 'ODV' 'PFRL' 'BYRE' 'LQIG' 'SEIQ' 'SEIM' 'SEIV' 'SELV' 'FIG' 'ORFN'\n",
      " 'ASCB' 'ASNS' 'BCAN' 'BNRG' 'BULD' 'CMRA' 'DECA' 'EDBL' 'HNVR' 'JEPQ'\n",
      " 'MSSA' 'NUBI' 'OKYO' 'PEPG' 'PLAO' 'PRE' 'SOBR' 'SWEB' 'TARK' 'TUG'\n",
      " 'TUGN' 'TYDE' 'VEDU' 'EHAB' 'OGIG' 'OEUR' 'OUSA' 'OUSM' 'XEMD' 'USNZ'\n",
      " 'BRKY' 'BUFQ' 'FGLD' 'IWFG' 'IWLG' 'AGIH' 'AGRH' 'HYGI' 'IBDX' 'IE'\n",
      " 'JIRE' 'VMAT' 'SHPP' 'TRFK' 'LONZ' 'BITI' 'OAIE' 'SYII' 'GVLU' 'CPII'\n",
      " 'AHOY' 'UDI' 'NIWM' 'NSPY' 'CLOI' 'WDS' 'AFAR' 'AFRI' 'ALVO' 'AOTG'\n",
      " 'CHEA' 'CLRC' 'CNXA' 'CZFS' 'FEMA' 'GBBK' 'GSUN' 'HSCS' 'INTR' 'IONR'\n",
      " 'IPX' 'IVCA' 'KAL' 'LYT' 'NTZG' 'PEV' 'PGY' 'PSNY' 'PSNYW' 'RENE' 'SVRE'\n",
      " 'TOP' 'YOTA' 'USEA' 'HKD' 'TRFM' 'GETY' 'IRHG' 'IRVH' 'HLN' 'RENW' 'MMSB'\n",
      " 'TSLH' 'SPCZ' 'MAIA' 'MEM' 'MINV' 'MCH' 'SSXU' 'SIO' 'LCF' 'ECBK' 'FIP'\n",
      " 'GRRR' 'GWAV' 'IBTM' 'ILAG' 'MCAC' 'MGAM' 'NCPL' 'NEOV' 'NKEL' 'NKEQ'\n",
      " 'NVDS' 'PFEL' 'PFES' 'PMN' 'PNAC' 'PYPS' 'PYPT' 'TSLQ' 'VRAX' 'WETG'\n",
      " 'CHG' 'FRZA' 'REBN' 'LUCY' 'ACAC' 'MCVT' 'QBTS' 'FLFV' 'NCRA' 'TGL'\n",
      " 'EFSH' 'ONFO' 'PXMD' 'WEST' 'HPCO' 'SHPH' 'ATXG' 'MSOX' 'LCLG' 'DRLL'\n",
      " 'NDIV' 'BPAY' 'SPKY' 'SPKX' 'EVAV' 'GRFX' 'XUSP' 'FOMO' 'LQDW' 'HYGW'\n",
      " 'TLTW' 'IBRN' 'JGRO' 'BCDF' 'FDLS' 'SPYI' 'BNDI' 'CSHI' 'STCE' 'SESG'\n",
      " 'AZTD' 'DVND' 'TUSI' 'TFPM' 'CGV' 'BIAF' 'AAPB' 'AAPD' 'AAPU' 'AMID'\n",
      " 'BRSH' 'CONL' 'DSPC' 'GCT' 'JFBR' 'JZ' 'MEGL' 'MOB' 'PDBA' 'SARK' 'SKGR'\n",
      " 'SOGU' 'STBX' 'TBIL' 'TSL' 'TSLI' 'TSLL' 'TSLS' 'TWEB' 'UTEN' 'UTWO'\n",
      " 'CRBG' 'XPER' 'NE' 'BHM' 'YEAR' 'TAFI' 'STRV' 'AVGE' 'AVIE' 'IDVO' 'AMPX'\n",
      " 'XHLF' 'XTWY' 'XTEN' 'XSVN' 'XFIV' 'XTRE' 'XTWO' 'XONE' 'KARB' 'EMCA'\n",
      " 'EMGC' 'EMZA' 'EMCH' 'EMPW' 'KPOP' 'XSEP' 'OSEA' 'INLX' 'NXTE' 'JHDV'\n",
      " 'KNW' 'KDIV' 'LVWR' 'LPTV' 'MPTI' 'BUYW' 'PBDC' 'SYNB' 'DEFI' 'THLV'\n",
      " 'SDGS' 'NOPE' 'OAIM' 'OAEM' 'XC' 'BHVN' 'ALPS' 'AMV' 'AMZD' 'AMZU' 'BLLD'\n",
      " 'BSCW' 'BSJU' 'CCSO' 'CIRC' 'DIVD' 'EMCG' 'GGLL' 'GGLS' 'HMAC' 'IBIT'\n",
      " 'IWTR' 'LASE' 'LNKB' 'MAXI' 'MOBV' 'MSFD' 'MSFU' 'NXL' 'NYAX' 'PTWO'\n",
      " 'SILO' 'THCH' 'THRD' 'UPWD' 'WLDS' 'YOSH' 'PRME' 'RXO' 'BRNY' 'DVAL'\n",
      " 'FTGS' 'MBLY' 'MCSE' 'MODL' 'QQQS' 'RNEW' 'SLNA' 'SVII' 'VOXR' 'AQU'\n",
      " 'SDSI' 'SHOC' 'BBLU' 'UYLD' 'BWEB' 'BRLN' 'BMN' 'CGMU' 'CGMS' 'CGSD'\n",
      " 'CTM' 'SRHQ' 'DSMC' 'EFXT' 'MISL' 'RDVI' 'XCOR' 'XNAV' 'RYLG' 'GRNT'\n",
      " 'HAPI' 'IQSM' 'IQHI' 'AAA' 'KMET' 'NBCM' 'RTO' 'SCMB' 'HIGH' 'BUCK'\n",
      " 'THYF' 'TSME' 'HFND' 'YALL' 'SHDG' 'NSPL' 'SMOT' 'MNK' 'PERF' 'SATX'\n",
      " 'UHALB' 'FG' 'DMYY' 'FSCO' 'ASPI' 'ACRV' 'GLST' 'QOMO' 'SNAL' 'CMND'\n",
      " 'NWTN' 'NAMS' 'DRS' 'ATAT' 'EFRA' 'ERET' 'OBIL' 'STXD' 'STXG' 'STXK'\n",
      " 'STXV' 'RVRB' 'NVBW' 'NVBT' 'HIDE' 'CARY' 'BKGI' 'SNPG' 'SNPV' 'SNPD'\n",
      " 'DFSB' 'DFSE' 'DFSI' 'DFSU' 'JUCY' 'FDV' 'EIPX' 'TYLG' 'HYLG' 'FYLG'\n",
      " 'MEDI' 'IGTR' 'SFLR' 'TGN' 'HDUS' 'ADPV' 'TUA' 'TFLR' 'PP' 'FIAX' 'OARK'\n",
      " 'TSLY' 'INC' 'MBC' 'BAM' 'ARP' 'DECW' 'DECT' 'BOXX' 'DFGR' 'DFLV' 'DIP'\n",
      " 'STNC' 'ICLO' 'ISDB' 'IMSI' 'HIYS' 'WUGI' 'JHID' 'OAIA' 'RNWZ' 'INTL'\n",
      " 'PBL' 'PJFV' 'PJFG' 'ION' 'CHRG' 'SANE' 'KCAL' 'DKRB' 'SECD' 'FCUS'\n",
      " 'QVOY' 'EQTY' 'PIT' 'VEMY' 'QGRW' 'LANV' 'MRDB' 'BABX' 'CACO' 'COWG'\n",
      " 'COYA' 'ECX' 'EFHT' 'FBL' 'HUDA' 'INFR' 'JEWL' 'KWE' 'LIPO' 'NVDL' 'OSA'\n",
      " 'RAYA' 'TENK' 'POCI' 'CVU' 'DPSI' 'TLF' 'SCWO' 'AIMD' 'SOFO' 'MICS'\n",
      " 'APLD' 'CYTK' 'SVA' 'OBE' 'ASTI' 'ESOA' 'FFHL' 'RSX' 'CO' 'SDRL']\n",
      "867\n"
     ]
    }
   ],
   "source": [
    "print(tickers_to_filter)\n",
    "print(len(tickers_to_filter))"
   ]
  },
  {
   "cell_type": "code",
   "execution_count": 32,
   "id": "f6a8911c-e736-4c7c-b05d-b909397b3c13",
   "metadata": {},
   "outputs": [
    {
     "name": "stdout",
     "output_type": "stream",
     "text": [
      "         Permno Ticker       Date   Returns\n",
      "0         10026   JJSF 2022-01-03  0.007344\n",
      "1         10026   JJSF 2022-01-04 -0.003582\n",
      "2         10026   JJSF 2022-01-05 -0.003406\n",
      "3         10026   JJSF 2022-01-06 -0.000316\n",
      "4         10026   JJSF 2022-01-07  0.004052\n",
      "...         ...    ...        ...       ...\n",
      "2391745   93436   TSLA 2022-12-23 -0.017551\n",
      "2391746   93436   TSLA 2022-12-27 -0.114089\n",
      "2391747   93436   TSLA 2022-12-28  0.033089\n",
      "2391748   93436   TSLA 2022-12-29  0.080827\n",
      "2391749   93436   TSLA 2022-12-30  0.011164\n",
      "\n",
      "[2261755 rows x 4 columns]\n"
     ]
    }
   ],
   "source": [
    "print(filtered_df)"
   ]
  },
  {
   "cell_type": "code",
   "execution_count": 72,
   "id": "94c8d95b-eaba-4c41-8ebe-b65afc358ac8",
   "metadata": {},
   "outputs": [
    {
     "name": "stderr",
     "output_type": "stream",
     "text": [
      "C:\\Users\\joshl\\AppData\\Local\\Temp/ipykernel_27520/3719724649.py:2: SettingWithCopyWarning: \n",
      "A value is trying to be set on a copy of a slice from a DataFrame.\n",
      "Try using .loc[row_indexer,col_indexer] = value instead\n",
      "\n",
      "See the caveats in the documentation: https://pandas.pydata.org/pandas-docs/stable/user_guide/indexing.html#returning-a-view-versus-a-copy\n",
      "  filtered_df['Date'] = pd.to_datetime(filtered_df['Date'])\n"
     ]
    },
    {
     "name": "stdout",
     "output_type": "stream",
     "text": [
      "Ticker             A        AA      AAAU       AAC      AACG      AACI  \\\n",
      "Date                                                                     \n",
      "2022-01-03 -0.018541  0.013092 -0.014851  0.002053  0.111630  0.012257   \n",
      "2022-01-04 -0.033806 -0.046885  0.007817  0.002049  1.142857 -0.001009   \n",
      "2022-01-05 -0.017131  0.017730 -0.002770  0.001022 -0.098039 -0.005051   \n",
      "2022-01-06  0.003499 -0.001708 -0.012778 -0.003064 -0.139130 -0.005076   \n",
      "2022-01-07 -0.026623  0.067066  0.005065  0.001025  0.333333  0.007143   \n",
      "...              ...       ...       ...       ...       ...       ...   \n",
      "2022-12-23  0.001476  0.007982  0.003093 -0.000992 -0.006897  0.001992   \n",
      "2022-12-27  0.002144  0.014932  0.008410  0.001986 -0.055556  0.000000   \n",
      "2022-12-28 -0.009763 -0.023629 -0.004726 -0.000991 -0.039044  0.003976   \n",
      "2022-12-29  0.020258  0.063014  0.005866  0.000992  0.032979  0.007921   \n",
      "2022-12-30 -0.008042 -0.023411  0.004721 -0.001982 -0.056815 -0.005894   \n",
      "\n",
      "Ticker          AADI      AADR      AAIC       AAL  ...       ZTO       ZTR  \\\n",
      "Date                                                ...                       \n",
      "2022-01-03  0.033954  0.002524  0.017143  0.043987  ... -0.019490  0.014752   \n",
      "2022-01-04 -0.019223 -0.000360  0.005618  0.014400  ...  0.003253 -0.004154   \n",
      "2022-01-05 -0.073499 -0.016128 -0.013966 -0.017876  ...  0.003602 -0.012513   \n",
      "2022-01-06 -0.004848  0.004795  0.014164 -0.005889  ...  0.005384 -0.001065   \n",
      "2022-01-07 -0.036758  0.002116  0.002793  0.038234  ...  0.004284  0.005330   \n",
      "...              ...       ...       ...       ...  ...       ...       ...   \n",
      "2022-12-23 -0.007924  0.005986  0.007018  0.011943  ... -0.009749  0.004580   \n",
      "2022-12-27 -0.042332 -0.011618 -0.003484 -0.014162  ...  0.015903 -0.001520   \n",
      "2022-12-28  0.003336 -0.005038 -0.010490 -0.016760  ... -0.016027 -0.007610   \n",
      "2022-12-29  0.045719  0.007595  0.031802  0.030844  ...  0.018182  0.006135   \n",
      "2022-12-30  0.019873  0.000000  0.003425  0.001575  ... -0.000372 -0.001524   \n",
      "\n",
      "Ticker           ZTS      ZUMZ       ZUO      ZVIA       ZWS      ZYME  \\\n",
      "Date                                                                     \n",
      "2022-01-03 -0.040979  0.000417 -0.017666  0.060993 -0.003846  0.035998   \n",
      "2022-01-04 -0.038072  0.014580 -0.019619 -0.017380  0.019857 -0.045936   \n",
      "2022-01-05 -0.038024 -0.025251 -0.067815 -0.002721 -0.035965 -0.067901   \n",
      "2022-01-06  0.003971  0.009478 -0.014311 -0.055935 -0.004208 -0.068212   \n",
      "2022-01-07 -0.029114 -0.029001  0.000000  0.001445 -0.023380  0.002843   \n",
      "...              ...       ...       ...       ...       ...       ...   \n",
      "2022-12-23  0.005033  0.034975  0.021127 -0.016529  0.005631 -0.085324   \n",
      "2022-12-27 -0.003156  0.006663  0.006897 -0.002801  0.005600 -0.068408   \n",
      "2022-12-28 -0.010117  0.002837  0.010274  0.036517 -0.014849  0.000000   \n",
      "2022-12-29  0.030035  0.029703  0.084746  0.119241  0.027320  0.042724   \n",
      "2022-12-30 -0.010800 -0.004579 -0.006250 -0.009685 -0.030261  0.006402   \n",
      "\n",
      "Ticker          ZYNE      ZYXI  \n",
      "Date                            \n",
      "2022-01-03  0.048611  0.032096  \n",
      "2022-01-04 -0.023179 -0.025267  \n",
      "2022-01-05 -0.091525  0.029910  \n",
      "2022-01-06  0.007463 -0.045161  \n",
      "2022-01-07 -0.003704 -0.046171  \n",
      "...              ...       ...  \n",
      "2022-12-23 -0.000185  0.015441  \n",
      "2022-12-27 -0.073903 -0.003621  \n",
      "2022-12-28  0.031400  0.008721  \n",
      "2022-12-29  0.099283 -0.000720  \n",
      "2022-12-30 -0.065091  0.002884  \n",
      "\n",
      "[251 rows x 8515 columns]\n"
     ]
    }
   ],
   "source": [
    "# Convert the date column to datetime if it's not already\n",
    "filtered_df['Date'] = pd.to_datetime(filtered_df['Date'])\n",
    "\n",
    "# Use pivot_table with aggregation (mean) to handle duplicates\n",
    "pivot_df = filtered_df.pivot_table(index='Date', columns='Ticker', values='Returns', aggfunc='mean')\n",
    "\n",
    "# Remove columns (companies) with remaining NaN values\n",
    "pivot_df = pivot_df_filled.dropna(axis=1)\n",
    "\n",
    "print(pivot_df)"
   ]
  },
  {
   "cell_type": "code",
   "execution_count": 83,
   "id": "b7d0db9c-118b-4d0c-bc1b-c78618deb2f4",
   "metadata": {},
   "outputs": [
    {
     "name": "stdout",
     "output_type": "stream",
     "text": [
      "<class 'pandas.core.frame.DataFrame'>\n"
     ]
    }
   ],
   "source": [
    "print(type(pivot_df))"
   ]
  },
  {
   "cell_type": "code",
   "execution_count": 84,
   "id": "87370841-8841-485e-b906-7b945a003f36",
   "metadata": {},
   "outputs": [
    {
     "name": "stdout",
     "output_type": "stream",
     "text": [
      "[[-0.018541  0.013092 -0.014851 ...  0.035998  0.048611  0.032096]\n",
      " [-0.033806 -0.046885  0.007817 ... -0.045936 -0.023179 -0.025267]\n",
      " [-0.017131  0.01773  -0.00277  ... -0.067901 -0.091525  0.02991 ]\n",
      " ...\n",
      " [-0.009763 -0.023629 -0.004726 ...  0.        0.0314    0.008721]\n",
      " [ 0.020258  0.063014  0.005866 ...  0.042724  0.099283 -0.00072 ]\n",
      " [-0.008042 -0.023411  0.004721 ...  0.006402 -0.065091  0.002884]]\n"
     ]
    }
   ],
   "source": [
    "matrix_data_trial = pivot_df.values\n",
    "print(matrix_data_trial)"
   ]
  },
  {
   "cell_type": "code",
   "execution_count": 85,
   "id": "c2fb6910-08f6-4987-801f-8874477fbb1c",
   "metadata": {},
   "outputs": [
    {
     "name": "stdout",
     "output_type": "stream",
     "text": [
      "-0.030261\n"
     ]
    }
   ],
   "source": [
    "# matrix_data[day][ticker]\n",
    "print(matrix_data_trial[-1][-4])"
   ]
  },
  {
   "cell_type": "code",
   "execution_count": 95,
   "id": "78d3bacd-7cb4-40be-8f04-f264c2fe5975",
   "metadata": {},
   "outputs": [],
   "source": [
    "# Function that does everything above:\n",
    "def convert(df):\n",
    "    unique_tickers = df['Ticker'].unique()\n",
    "    \n",
    "    # Convert the date column to datetime if it's not already\n",
    "    df['Date'] = pd.to_datetime(df['Date'])\n",
    "\n",
    "    # Create a mask for tickers with 0 or NaN values between Jan 1, 2022, and Dec 30, 2022\\n\",\n",
    "    mask = ((df['Date'] >= '2022-01-01') & (df['Date'] <= '2022-12-30')) & (df.isin([np.nan]).any(axis=1))\n",
    "\n",
    "    # Get tickers to filter out\n",
    "    tickers_to_filter = df[mask]['Ticker'].unique()\n",
    "\n",
    "    # Filter the DataFrame to exclude rows with tickers having NaN values\n",
    "    filtered_df = df[~df['Ticker'].isin(tickers_to_filter)]\n",
    "    \n",
    "    # Convert the date column to datetime if it's not already\n",
    "    filtered_df['Date'] = pd.to_datetime(filtered_df['Date'])\n",
    "\n",
    "    # Use pivot_table with aggregation (mean) to handle duplicates\n",
    "    pivot_df = filtered_df.pivot_table(index='Date', columns='Ticker', values='Returns', aggfunc='mean')\n",
    "\n",
    "    # Remove columns (companies) with remaining NaN values\n",
    "    pivot_df = pivot_df_filled.dropna(axis=1)\n",
    "\n",
    "    matrix_data = pivot_df.values\n",
    "\n",
    "    return matrix_data"
   ]
  },
  {
   "cell_type": "code",
   "execution_count": 96,
   "id": "31eaf4b5-6a6b-4ebb-8e26-6e7d762e5373",
   "metadata": {},
   "outputs": [
    {
     "name": "stderr",
     "output_type": "stream",
     "text": [
      "C:\\Users\\joshl\\AppData\\Local\\Temp/ipykernel_27520/365102903.py:18: SettingWithCopyWarning: \n",
      "A value is trying to be set on a copy of a slice from a DataFrame.\n",
      "Try using .loc[row_indexer,col_indexer] = value instead\n",
      "\n",
      "See the caveats in the documentation: https://pandas.pydata.org/pandas-docs/stable/user_guide/indexing.html#returning-a-view-versus-a-copy\n",
      "  filtered_df['Date'] = pd.to_datetime(filtered_df['Date'])\n"
     ]
    },
    {
     "name": "stdout",
     "output_type": "stream",
     "text": [
      "[[-0.018541  0.013092 -0.014851 ...  0.035998  0.048611  0.032096]\n",
      " [-0.033806 -0.046885  0.007817 ... -0.045936 -0.023179 -0.025267]\n",
      " [-0.017131  0.01773  -0.00277  ... -0.067901 -0.091525  0.02991 ]\n",
      " ...\n",
      " [-0.009763 -0.023629 -0.004726 ...  0.        0.0314    0.008721]\n",
      " [ 0.020258  0.063014  0.005866 ...  0.042724  0.099283 -0.00072 ]\n",
      " [-0.008042 -0.023411  0.004721 ...  0.006402 -0.065091  0.002884]]\n"
     ]
    }
   ],
   "source": [
    "matrix_data = convert(df)\n",
    "print(matrix_data)"
   ]
  },
  {
   "cell_type": "code",
   "execution_count": 76,
   "id": "65354ab2-202c-4be9-9342-e1427c855dec",
   "metadata": {},
   "outputs": [
    {
     "name": "stdout",
     "output_type": "stream",
     "text": [
      "[[0.00011744]\n",
      " [0.00011744]\n",
      " [0.00011744]\n",
      " ...\n",
      " [0.00011744]\n",
      " [0.00011744]\n",
      " [0.00011744]]\n"
     ]
    }
   ],
   "source": [
    "weight = np.full((8515, 1), 1/8515)\n",
    "print(weight)"
   ]
  },
  {
   "cell_type": "code",
   "execution_count": 77,
   "id": "1bbe86ab-f23f-4530-8b1c-2b5c8ce5d14f",
   "metadata": {},
   "outputs": [
    {
     "name": "stdout",
     "output_type": "stream",
     "text": [
      "8515\n",
      "1\n"
     ]
    }
   ],
   "source": [
    "print(len(weight))\n",
    "print(len(weight[0]))"
   ]
  },
  {
   "cell_type": "code",
   "execution_count": 98,
   "id": "d885783c-9e57-4f32-ad23-8bad15882e28",
   "metadata": {},
   "outputs": [
    {
     "name": "stdout",
     "output_type": "stream",
     "text": [
      "[[ 1.24580776e-02]\n",
      " [-3.45274909e-03]\n",
      " [-2.28573758e-02]\n",
      " [-8.36200646e-04]\n",
      " [-3.54695232e-03]\n",
      " [-5.90316835e-03]\n",
      " [ 1.28674329e-02]\n",
      " [-1.63022789e-03]\n",
      " [-1.17816709e-02]\n",
      " [-6.39383030e-04]\n",
      " [-2.06636648e-02]\n",
      " [-7.57907980e-03]\n",
      " [-1.07067293e-02]\n",
      " [-2.06633955e-02]\n",
      " [ 2.22691022e-03]\n",
      " [-4.39567346e-03]\n",
      " [-8.91327821e-03]\n",
      " [-1.67384965e-02]\n",
      " [ 1.29040876e-02]\n",
      " [ 3.02243721e-02]\n",
      " [ 1.28846129e-02]\n",
      " [-8.30826935e-03]\n",
      " [-1.78460527e-02]\n",
      " [ 7.57919530e-03]\n",
      " [ 4.12461715e-03]\n",
      " [ 8.61502366e-03]\n",
      " [ 1.69349957e-02]\n",
      " [-1.08757787e-02]\n",
      " [-1.15955479e-02]\n",
      " [-7.96546806e-03]\n",
      " [ 2.14873537e-02]\n",
      " [ 1.69572513e-03]\n",
      " [-1.85868985e-02]\n",
      " [-9.76860476e-03]\n",
      " [-1.42428988e-02]\n",
      " [-1.37887348e-02]\n",
      " [ 1.43687069e-02]\n",
      " [ 1.71939637e-02]\n",
      " [ 2.86790681e-03]\n",
      " [-1.09191042e-02]\n",
      " [ 1.33017400e-02]\n",
      " [-1.13580798e-02]\n",
      " [-1.36469596e-02]\n",
      " [-1.82601737e-02]\n",
      " [ 5.72710523e-03]\n",
      " [ 2.37616517e-02]\n",
      " [-4.60653682e-03]\n",
      " [-1.62190223e-02]\n",
      " [-2.13955882e-02]\n",
      " [ 1.09967019e-02]\n",
      " [ 3.15237763e-02]\n",
      " [ 1.87147711e-02]\n",
      " [ 1.31419859e-02]\n",
      " [-4.35860053e-03]\n",
      " [ 1.21706535e-02]\n",
      " [-8.00553823e-03]\n",
      " [ 8.45607134e-03]\n",
      " [-3.57946424e-03]\n",
      " [-1.64888831e-03]\n",
      " [ 1.76351285e-02]\n",
      " [-8.77786917e-03]\n",
      " [-9.17588139e-03]\n",
      " [ 6.35865872e-03]\n",
      " [ 8.41160493e-03]\n",
      " [-1.64206992e-02]\n",
      " [-1.22878328e-02]\n",
      " [-3.50945044e-03]\n",
      " [-4.48342055e-03]\n",
      " [-1.04648915e-02]\n",
      " [-1.99499477e-03]\n",
      " [ 1.36561932e-02]\n",
      " [-8.19557041e-03]\n",
      " [-9.40887211e-03]\n",
      " [ 1.27315623e-02]\n",
      " [-7.64368174e-05]\n",
      " [-1.95013419e-02]\n",
      " [-1.79940362e-02]\n",
      " [ 1.51583893e-03]\n",
      " [-2.48572804e-02]\n",
      " [-1.91282202e-03]\n",
      " [ 1.28466179e-02]\n",
      " [-1.86539503e-02]\n",
      " [ 5.49233594e-03]\n",
      " [ 5.98382754e-03]\n",
      " [ 1.81328489e-02]\n",
      " [-3.14997385e-02]\n",
      " [-1.46763912e-02]\n",
      " [-4.03738688e-02]\n",
      " [-2.71884944e-03]\n",
      " [-2.30088670e-02]\n",
      " [ 5.77929325e-03]\n",
      " [ 3.13570469e-02]\n",
      " [-1.77883112e-03]\n",
      " [ 2.36816299e-02]\n",
      " [-2.63180238e-02]\n",
      " [ 6.29220593e-03]\n",
      " [-2.60669442e-03]\n",
      " [ 8.69190975e-03]\n",
      " [-1.54425988e-02]\n",
      " [ 1.30786865e-02]\n",
      " [ 1.78381142e-02]\n",
      " [ 2.11624005e-02]\n",
      " [-4.54025232e-03]\n",
      " [-7.18482108e-03]\n",
      " [ 1.92259693e-02]\n",
      " [-6.84947728e-03]\n",
      " [ 3.50028831e-04]\n",
      " [ 1.14764419e-02]\n",
      " [-3.62174674e-03]\n",
      " [-1.80571647e-02]\n",
      " [-2.32138705e-02]\n",
      " [-4.36230311e-02]\n",
      " [-4.45983969e-03]\n",
      " [ 1.44288066e-02]\n",
      " [-3.16440272e-02]\n",
      " [ 9.62870945e-03]\n",
      " [ 1.46332046e-02]\n",
      " [-2.14720370e-03]\n",
      " [ 1.05893642e-02]\n",
      " [ 1.88905497e-02]\n",
      " [ 1.49056107e-03]\n",
      " [-1.36961587e-02]\n",
      " [-8.43913576e-03]\n",
      " [-6.21480863e-03]\n",
      " [ 8.07314357e-03]\n",
      " [ 4.15127898e-03]\n",
      " [-4.31828385e-03]\n",
      " [ 2.09423398e-02]\n",
      " [ 2.34486823e-03]\n",
      " [-1.61232048e-02]\n",
      " [-2.80043952e-03]\n",
      " [ 2.66683500e-04]\n",
      " [-1.02974726e-02]\n",
      " [ 1.30633971e-02]\n",
      " [ 7.27240634e-04]\n",
      " [ 2.27945580e-02]\n",
      " [ 1.07261322e-02]\n",
      " [ 5.19690675e-03]\n",
      " [-1.42222429e-02]\n",
      " [ 1.69769031e-03]\n",
      " [-9.31232255e-03]\n",
      " [ 1.83030507e-02]\n",
      " [ 9.41116747e-03]\n",
      " [ 5.51228068e-03]\n",
      " [-2.51915913e-04]\n",
      " [ 2.78875596e-03]\n",
      " [ 1.43461071e-02]\n",
      " [ 4.03988432e-03]\n",
      " [ 4.86795502e-03]\n",
      " [ 8.85222355e-03]\n",
      " [-1.29384030e-02]\n",
      " [ 2.20246004e-02]\n",
      " [ 3.67421262e-03]\n",
      " [ 1.44220986e-02]\n",
      " [ 1.81011585e-03]\n",
      " [-1.75349971e-03]\n",
      " [-1.28160312e-02]\n",
      " [ 2.17776465e-03]\n",
      " [-1.82012028e-02]\n",
      " [-1.63662097e-02]\n",
      " [ 3.07601996e-03]\n",
      " [ 7.45717710e-03]\n",
      " [ 1.14301830e-02]\n",
      " [-2.42472648e-02]\n",
      " [-5.69723969e-03]\n",
      " [-1.20061014e-02]\n",
      " [-2.94137087e-03]\n",
      " [-9.68727152e-03]\n",
      " [-4.02874927e-03]\n",
      " [-8.20260869e-03]\n",
      " [ 1.51179923e-02]\n",
      " [ 6.31341991e-03]\n",
      " [ 1.59171363e-02]\n",
      " [ 8.91551116e-03]\n",
      " [-2.82877658e-02]\n",
      " [ 9.37403406e-05]\n",
      " [-5.47068444e-03]\n",
      " [-1.33114692e-02]\n",
      " [-8.89903112e-05]\n",
      " [-1.38534873e-02]\n",
      " [-1.22895558e-02]\n",
      " [-1.70298715e-02]\n",
      " [-2.29718462e-02]\n",
      " [-1.37425272e-02]\n",
      " [ 1.67501075e-03]\n",
      " [ 2.33112718e-02]\n",
      " [-1.95439895e-02]\n",
      " [-4.13948908e-03]\n",
      " [ 2.04102975e-02]\n",
      " [ 3.11498517e-02]\n",
      " [-4.89020053e-03]\n",
      " [-4.73716177e-03]\n",
      " [-2.39760101e-02]\n",
      " [-9.60828949e-03]\n",
      " [-5.53860435e-03]\n",
      " [-1.12736207e-03]\n",
      " [ 1.39210840e-02]\n",
      " [-1.84292659e-02]\n",
      " [ 2.08620257e-02]\n",
      " [ 8.96738215e-03]\n",
      " [-1.46014347e-02]\n",
      " [-4.62371797e-03]\n",
      " [ 1.32135640e-02]\n",
      " [-2.60889871e-03]\n",
      " [ 2.24677155e-02]\n",
      " [ 4.89806483e-03]\n",
      " [-1.29254545e-03]\n",
      " [ 1.20527541e-02]\n",
      " [-1.89130417e-03]\n",
      " [ 4.22323230e-03]\n",
      " [-2.08257866e-02]\n",
      " [-3.88447645e-03]\n",
      " [ 9.85270540e-03]\n",
      " [ 3.76381621e-03]\n",
      " [ 2.17670757e-04]\n",
      " [-2.28110321e-02]\n",
      " [ 4.51455298e-02]\n",
      " [ 1.56149867e-02]\n",
      " [-6.85042989e-03]\n",
      " [ 1.05517921e-02]\n",
      " [-1.36161548e-02]\n",
      " [-6.17388332e-03]\n",
      " [ 5.87113447e-04]\n",
      " [-6.89294328e-03]\n",
      " [ 7.30805819e-03]\n",
      " [ 6.07183212e-03]\n",
      " [ 2.75406788e-03]\n",
      " [-1.39988310e-02]\n",
      " [ 2.85174674e-03]\n",
      " [ 2.11534136e-02]\n",
      " [ 2.53176177e-03]\n",
      " [ 4.81799941e-03]\n",
      " [-1.80386978e-02]\n",
      " [-1.23476280e-02]\n",
      " [-4.02493705e-03]\n",
      " [ 5.81896230e-03]\n",
      " [-4.23300417e-03]\n",
      " [ 6.20945655e-03]\n",
      " [ 6.09617499e-03]\n",
      " [-3.95752660e-03]\n",
      " [-1.79456462e-02]\n",
      " [-7.10063529e-03]\n",
      " [-1.37345460e-02]\n",
      " [ 1.47919971e-03]\n",
      " [ 1.07330582e-02]\n",
      " [-9.72071891e-03]\n",
      " [ 2.11502613e-03]\n",
      " [-8.21729736e-03]\n",
      " [-1.04187182e-02]\n",
      " [ 2.23414850e-02]\n",
      " [ 2.95795021e-03]]\n"
     ]
    }
   ],
   "source": [
    "portfolio_returns = np.dot(matrix_data, weight)\n",
    "print(portfolio_returns)"
   ]
  },
  {
   "cell_type": "code",
   "execution_count": 105,
   "id": "b1ccaec0-1003-4d30-8cea-ac430a05b6c7",
   "metadata": {},
   "outputs": [
    {
     "name": "stdout",
     "output_type": "stream",
     "text": [
      "<class 'numpy.ndarray'>\n",
      "251\n",
      "1\n"
     ]
    }
   ],
   "source": [
    "print(type(portfolio_returns))\n",
    "print(len(portfolio_returns))\n",
    "print(len(portfolio_returns[0]))"
   ]
  },
  {
   "cell_type": "code",
   "execution_count": 125,
   "id": "2c3c5a32-5693-434d-9df6-04333623fcf3",
   "metadata": {},
   "outputs": [],
   "source": [
    "def calculate_ES(returns):\n",
    "    # Flatten the 2D array to a 1D array\n",
    "    returns = returns.flatten()\n",
    "\n",
    "    # Set the confidence level (e.g., 95%)\n",
    "    confidence_level = 0.95\n",
    "\n",
    "    # Calculate the expected shortfall\n",
    "    es = np.percentile(returns, q=(1 - confidence_level) * 100)\n",
    "    average_loss = np.mean(returns[returns <= es])\n",
    "\n",
    "    print(f\"Expected Shortfall (ES) at {confidence_level * 100}% confidence level: {es:.4f}\")\n",
    "    print(f\"Average Loss Beyond ES: {average_loss:.4f}\")"
   ]
  },
  {
   "cell_type": "code",
   "execution_count": 126,
   "id": "fd87f383-dde9-4319-ab09-a177e8d3b5e3",
   "metadata": {},
   "outputs": [
    {
     "data": {
      "image/png": "[encoded data removed]",
      "text/plain": [
       "<Figure size 432x288 with 1 Axes>"
      ]
     },
     "metadata": {
      "needs_background": "light"
     },
     "output_type": "display_data"
    }
   ],
   "source": [
    "# Plot the histogram\n",
    "plt.hist(portfolio_returns, bins=100, color='blue', alpha=0.7)\n",
    "plt.title('Histogram of Returns')\n",
    "plt.xlabel('Returns')\n",
    "plt.ylabel('Frequency')\n",
    "plt.grid(True)\n",
    "plt.show()"
   ]
  },
  {
   "cell_type": "code",
   "execution_count": 127,
   "id": "cb6ea28f-c025-4a65-be5c-46c370ae2079",
   "metadata": {},
   "outputs": [
    {
     "name": "stdout",
     "output_type": "stream",
     "text": [
      "Expected Shortfall (ES) at 95.0% confidence level: -0.0228\n",
      "Average Loss Beyond ES: -0.0282\n"
     ]
    }
   ],
   "source": [
    "calculate_ES(portfolio_returns)"
   ]
  }
 ],
 "metadata": {
  "kernelspec": {
   "display_name": "Python 3 (ipykernel)",
   "language": "python",
   "name": "python3"
  },
  "language_info": {
   "codemirror_mode": {
    "name": "ipython",
    "version": 3
   },
   "file_extension": ".py",
   "mimetype": "text/x-python",
   "name": "python",
   "nbconvert_exporter": "python",
   "pygments_lexer": "ipython3",
   "version": "3.9.7"
  }
 },
 "nbformat": 4,
 "nbformat_minor": 5
}
