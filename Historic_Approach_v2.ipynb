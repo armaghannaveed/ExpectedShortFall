{
 "cells": [
  {
   "cell_type": "code",
   "execution_count": 1,
   "id": "5603505b-0354-46d5-b968-b31c1eefffa9",
   "metadata": {},
   "outputs": [],
   "source": [
    "import matplotlib.pyplot as plt\n",
    "from datetime import datetime\n",
    "import pandas as pd\n",
    "import random\n",
    "import numpy as np\n",
    "import yfinance as yf # ticker data\n",
    "from pandas_datareader import data as pdr # market proxy and treasury rates data\n",
    "import datetime as dt\n",
    "from numpy import nan\n",
    "from time import sleep\n",
    "import concurrent.futures\n",
    "from functools import reduce\n",
    "from scipy.stats import norm\n",
    "from sklearn.preprocessing import MinMaxScaler\n",
    "from sklearn.metrics import mean_squared_error\n",
    "import scipy\n",
    "import time"
   ]
  },
  {
   "cell_type": "code",
   "execution_count": 3,
   "id": "a8024523-56ca-4c9c-99c9-95041885eb64",
   "metadata": {},
   "outputs": [
    {
     "name": "stdout",
     "output_type": "stream",
     "text": [
      "         Permno Ticker        Date   Returns\n",
      "0         10026   JJSF  2022-01-03  0.007344\n",
      "1         10026   JJSF  2022-01-04 -0.003582\n",
      "2         10026   JJSF  2022-01-05 -0.003406\n",
      "3         10026   JJSF  2022-01-06 -0.000316\n",
      "4         10026   JJSF  2022-01-07  0.004052\n",
      "...         ...    ...         ...       ...\n",
      "2391745   93436   TSLA  2022-12-23 -0.017551\n",
      "2391746   93436   TSLA  2022-12-27 -0.114089\n",
      "2391747   93436   TSLA  2022-12-28  0.033089\n",
      "2391748   93436   TSLA  2022-12-29  0.080827\n",
      "2391749   93436   TSLA  2022-12-30  0.011164\n",
      "\n",
      "[2391750 rows x 4 columns]\n"
     ]
    }
   ],
   "source": [
    "from database import DatabaseUBCTG\n",
    "db = DatabaseUBCTG()\n",
    "df = db.get_returns_universe(start=\"2022-01-01\", end=\"2022-12-31\")\n",
    "print(df)"
   ]
  },
  {
   "cell_type": "code",
   "execution_count": 4,
   "id": "f91bcf05-1dfd-4d09-a290-1bbed410a563",
   "metadata": {},
   "outputs": [],
   "source": [
    "# Convert the date column to datetime if it's not already\n",
    "# df['Date'] = pd.to_datetime(df['Date'])\n",
    "\n",
    "# Filter out rows before January 1, 2022\n",
    "# filtered_df = df[df['Date'] >= '2022-01-01']\n",
    "# Filter out rows that don't have data from December 30, 2022\n",
    "# filtered_df = df[df['Date'] == '2022-12-30']"
   ]
  },
  {
   "cell_type": "code",
   "execution_count": 6,
   "id": "609471af-d99a-419c-ba9f-4c66c70e4281",
   "metadata": {},
   "outputs": [
    {
     "name": "stdout",
     "output_type": "stream",
     "text": [
      "['JJSF' 'ELA' 'PLXS' ... 'CBOE' 'SANW' 'TSLA']\n",
      "10285\n"
     ]
    }
   ],
   "source": [
    "unique_tickers = df['Ticker'].unique()\n",
    "print((unique_tickers))\n",
    "print(len(unique_tickers))"
   ]
  },
  {
   "cell_type": "code",
   "execution_count": 7,
   "id": "938ff2df-5f03-411f-9b33-cda2867a23e1",
   "metadata": {},
   "outputs": [],
   "source": [
    "# Convert the date column to datetime if it's not already\n",
    "df['Date'] = pd.to_datetime(df['Date'])\n",
    "\n",
    "# Create a mask for tickers with 0 or NaN values between Jan 1, 2022, and Dec 30, 2022\\n\",\n",
    "mask = ((df['Date'] >= '2022-01-01') & (df['Date'] <= '2022-12-30')) & (df.isin([np.nan]).any(axis=1))\n",
    "\n",
    "# Get tickers to filter out\n",
    "tickers_to_filter = df[mask]['Ticker'].unique()\n",
    "\n",
    "# Filter the DataFrame to exclude rows with tickers having NaN values\n",
    "filtered_df = df[~df['Ticker'].isin(tickers_to_filter)]"
   ]
  },
  {
   "cell_type": "code",
   "execution_count": 10,
   "id": "9b3d0397-c917-4631-be98-5bacc7bb58d3",
   "metadata": {},
   "outputs": [
    {
     "name": "stdout",
     "output_type": "stream",
     "text": [
      "['RSXJ' None 'AMPE' 'YNDX' 'AREN' 'PME' 'QIWI' 'BLUE' 'AAMC' 'TMBR' 'MESO'\n",
      " 'EVTV' 'ONE' 'BBIG' 'HHR' 'CCAC' 'OPT' 'OZON' 'BTMD' 'AFAQ' 'PLL' 'GDEV'\n",
      " 'ARBK' 'AHI' 'CIAN' 'RESI' 'HOTL' 'TPG' 'FGI' 'CRDO' 'CEG' 'ALOR' 'ALSA'\n",
      " 'AMLX' 'APCX' 'APXI' 'AZ' 'BIOS' 'BLEU' 'BOCN' 'BPAC' 'BRFH' 'BRKH'\n",
      " 'CFSB' 'CINC' 'CISO' 'CMCA' 'CNGL' 'CREC' 'DAOO' 'DCFC' 'DMAT' 'ENCP'\n",
      " 'FEXD' 'FXCO' 'GDNR' 'GEEX' 'GFGD' 'GGAA' 'HAIA' 'HILS' 'HORI' 'HOUR'\n",
      " 'IDAI' 'IGTA' 'IOAC' 'JWAC' 'KACL' 'KSCP' 'LFAC' 'LGST' 'MAAQ' 'NSTS'\n",
      " 'NVAC' 'NZRO' 'OLIT' 'RNER' 'ROCL' 'SATL' 'TCHI' 'TGAA' 'TKLF' 'TLGY'\n",
      " 'UMMA' 'UTAA' 'VHNA' 'VIGL' 'VMGA' 'WTMA' 'XDNA' 'XPDB' 'ZING' 'SAMT'\n",
      " 'SAGP' 'SIXJ' 'AVSC' 'ATEK' 'BRD' 'CWC' 'FLTN' 'RSEE' 'TRDF' 'DMA' 'EVEN'\n",
      " 'ONG' 'FNTC' 'WEIX' 'SEA' 'MNTN' 'BNGE' 'GAST' 'XDJA' 'XTJA' 'XBJA'\n",
      " 'QTJA' 'IRRX' 'RJAC' 'JBBB' 'FLDZ' 'NETC' 'IUSA' 'PAXS' 'PACI' 'REMG'\n",
      " 'RDMX' 'ESIX' 'PUNK' 'SUAC' 'EAFD' 'EMGD' 'RTYD' 'PORT' 'UPAR' 'TCOA'\n",
      " 'VZLA' 'IFIN' 'NFNT' 'WEL' 'MTVC' 'SCUA' 'STET' 'SGHC' 'ZIMV' 'ACLX'\n",
      " 'AHRN' 'AIB' 'ANGH' 'AOGO' 'AREB' 'BRAC' 'BWV' 'CEAD' 'CFFS' 'CITE'\n",
      " 'COSM' 'DRCT' 'EMLD' 'FRBN' 'GMFI' 'HTCR' 'IVCB' 'IVCP' 'IXHL' 'LSPR'\n",
      " 'MHUA' 'MODD' 'MTEK' 'NVCT' 'NVX' 'PABU' 'PRLH' 'RCAC' 'SAGA' 'SBFM'\n",
      " 'SCRM' 'SKYX' 'SMFL' 'SSIC' 'SZZL' 'TCBP' 'TGAN' 'VBOC' 'VIVK' 'WGMI'\n",
      " 'LETB' 'IWIN' 'ADRT' 'BRCC' 'BRBR' 'XHYE' 'XHYC' 'XHYD' 'XHYF' 'XHYH'\n",
      " 'XHYT' 'XHYI' 'BFIX' 'CXAC' 'CGXU' 'CGGR' 'CGUS' 'CGDV' 'CGGO' 'CGCP'\n",
      " 'RLTY' 'HYRM' 'DFSV' 'DFAR' 'DUHP' 'GFOF' 'PSYK' 'NETZ' 'FSYD' 'DJIA'\n",
      " 'GEMD' 'GCLN' 'WINN' 'HGER' 'HAPY' 'WRND' 'LRND' 'MRND' 'BUFB' 'CSH'\n",
      " 'IRBA' 'MDV' 'RMMZ' 'PRAY' 'HYBL' 'AGGH' 'CDX' 'CLSE' 'DGIN' 'WBAT'\n",
      " 'APCA' 'BFAC' 'EVE' 'SHAP' 'EMBC' 'ESAB' 'ACAB' 'ACAX' 'AKAN' 'ANTX'\n",
      " 'ASCA' 'ATAK' 'BWAQ' 'CSLM' 'DAM' 'DRTS' 'DUET' 'EKG' 'FEAM' 'GHIX'\n",
      " 'GMGI' 'HCMA' 'ITAQ' 'KYCH' 'LATG' 'LCFY' 'LIVB' 'MURF' 'POET' 'PPYA'\n",
      " 'RVSN' 'SGHL' 'TETE' 'ZTEK' 'ROCI' 'AVSU' 'AVSD' 'AVSE' 'BYN' 'RHCB'\n",
      " 'BBUC' 'TACK' 'SEMI' 'DO' 'DIHP' 'DFIS' 'DISV' 'DFIC' 'MSTQ' 'EP' 'CRIT'\n",
      " 'GLOV' 'HMA' 'PSTP' 'BSTP' 'CHGX' 'IBHI' 'IBHH' 'TGR' 'KNSW' 'KGHG'\n",
      " 'IPDP' 'IPPP' 'MGLD' 'IDR' 'GDVD' 'VERS' 'CTA' 'STRY' 'HAUS' 'RPHS'\n",
      " 'OACP' 'SVIX' 'UVIX' 'GDE' 'AXAC' 'WNNR' 'GAQ' 'PGRU' 'VCXB' 'ALLG' 'WBD'\n",
      " 'EE' 'UAV' 'CRYP' 'DFEM' 'DFEV' 'DEHP' 'TIPD' 'TIPL' 'DNBD' 'DCPE' 'INQQ'\n",
      " 'FSLD' 'FSBD' 'FEEM' 'GUSA' 'HNRA' 'IBLC' 'JCPI' 'DC' 'KSET' 'WEED'\n",
      " 'NBCT' 'NBDS' 'NBCC' 'FMCX' 'SUPL' 'MBNE' 'URNM' 'GNS' 'ACON' 'ARVR'\n",
      " 'BLTE' 'BYNO' 'CLIN' 'CPAQ' 'CRGE' 'ELBM' 'EVGR' 'EVMT' 'FDIG' 'FGMC'\n",
      " 'FMET' 'FTII' 'GDST' 'GENQ' 'GGR' 'GRNR' 'GSRM' 'HLVX' 'IVDA' 'IVEG'\n",
      " 'JCSE' 'JGGC' 'JMSB' 'LBBB' 'NUTX' 'NZUS' 'ODDS' 'OST' 'PWUP' 'RACY'\n",
      " 'RFAC' 'RWOD' 'SHUA' 'SOUN' 'SPCM' 'STSS' 'SWVL' 'TNON' 'VMCA' 'VR'\n",
      " 'WAVS' 'XPON' 'AZPN' 'PFHC' 'BGXX' 'MNBD' 'MOOD' 'AUST' 'BLCO' 'XBB' 'XB'\n",
      " 'XCCC' 'DFUV' 'MPAY' 'GABF' 'GDIV' 'IAUX' 'JMEE' 'JPRE' 'TILL' 'STGF'\n",
      " 'ODV' 'PFRL' 'BYRE' 'LQIG' 'SEIQ' 'SEIM' 'SEIV' 'SELV' 'FIG' 'ORFN'\n",
      " 'ASCB' 'ASNS' 'BCAN' 'BNRG' 'BULD' 'CMRA' 'DECA' 'EDBL' 'HNVR' 'JEPQ'\n",
      " 'MSSA' 'NUBI' 'OKYO' 'PEPG' 'PLAO' 'PRE' 'SOBR' 'SWEB' 'TARK' 'TUG'\n",
      " 'TUGN' 'TYDE' 'VEDU' 'EHAB' 'OGIG' 'OEUR' 'OUSA' 'OUSM' 'XEMD' 'USNZ'\n",
      " 'BRKY' 'BUFQ' 'FGLD' 'IWFG' 'IWLG' 'AGIH' 'AGRH' 'HYGI' 'IBDX' 'IE'\n",
      " 'JIRE' 'VMAT' 'SHPP' 'TRFK' 'LONZ' 'BITI' 'OAIE' 'SYII' 'GVLU' 'CPII'\n",
      " 'AHOY' 'UDI' 'NIWM' 'NSPY' 'CLOI' 'WDS' 'AFAR' 'AFRI' 'ALVO' 'AOTG'\n",
      " 'CHEA' 'CLRC' 'CNXA' 'CZFS' 'FEMA' 'GBBK' 'GSUN' 'HSCS' 'INTR' 'IONR'\n",
      " 'IPX' 'IVCA' 'KAL' 'LYT' 'NTZG' 'PEV' 'PGY' 'PSNY' 'PSNYW' 'RENE' 'SVRE'\n",
      " 'TOP' 'YOTA' 'USEA' 'HKD' 'TRFM' 'GETY' 'IRHG' 'IRVH' 'HLN' 'RENW' 'MMSB'\n",
      " 'TSLH' 'SPCZ' 'MAIA' 'MEM' 'MINV' 'MCH' 'SSXU' 'SIO' 'LCF' 'ECBK' 'FIP'\n",
      " 'GRRR' 'GWAV' 'IBTM' 'ILAG' 'MCAC' 'MGAM' 'NCPL' 'NEOV' 'NKEL' 'NKEQ'\n",
      " 'NVDS' 'PFEL' 'PFES' 'PMN' 'PNAC' 'PYPS' 'PYPT' 'TSLQ' 'VRAX' 'WETG'\n",
      " 'CHG' 'FRZA' 'REBN' 'LUCY' 'ACAC' 'MCVT' 'QBTS' 'FLFV' 'NCRA' 'TGL'\n",
      " 'EFSH' 'ONFO' 'PXMD' 'WEST' 'HPCO' 'SHPH' 'ATXG' 'MSOX' 'LCLG' 'DRLL'\n",
      " 'NDIV' 'BPAY' 'SPKY' 'SPKX' 'EVAV' 'GRFX' 'XUSP' 'FOMO' 'LQDW' 'HYGW'\n",
      " 'TLTW' 'IBRN' 'JGRO' 'BCDF' 'FDLS' 'SPYI' 'BNDI' 'CSHI' 'STCE' 'SESG'\n",
      " 'AZTD' 'DVND' 'TUSI' 'TFPM' 'CGV' 'BIAF' 'AAPB' 'AAPD' 'AAPU' 'AMID'\n",
      " 'BRSH' 'CONL' 'DSPC' 'GCT' 'JFBR' 'JZ' 'MEGL' 'MOB' 'PDBA' 'SARK' 'SKGR'\n",
      " 'SOGU' 'STBX' 'TBIL' 'TSL' 'TSLI' 'TSLL' 'TSLS' 'TWEB' 'UTEN' 'UTWO'\n",
      " 'CRBG' 'XPER' 'NE' 'BHM' 'YEAR' 'TAFI' 'STRV' 'AVGE' 'AVIE' 'IDVO' 'AMPX'\n",
      " 'XHLF' 'XTWY' 'XTEN' 'XSVN' 'XFIV' 'XTRE' 'XTWO' 'XONE' 'KARB' 'EMCA'\n",
      " 'EMGC' 'EMZA' 'EMCH' 'EMPW' 'KPOP' 'XSEP' 'OSEA' 'INLX' 'NXTE' 'JHDV'\n",
      " 'KNW' 'KDIV' 'LVWR' 'LPTV' 'MPTI' 'BUYW' 'PBDC' 'SYNB' 'DEFI' 'THLV'\n",
      " 'SDGS' 'NOPE' 'OAIM' 'OAEM' 'XC' 'BHVN' 'ALPS' 'AMV' 'AMZD' 'AMZU' 'BLLD'\n",
      " 'BSCW' 'BSJU' 'CCSO' 'CIRC' 'DIVD' 'EMCG' 'GGLL' 'GGLS' 'HMAC' 'IBIT'\n",
      " 'IWTR' 'LASE' 'LNKB' 'MAXI' 'MOBV' 'MSFD' 'MSFU' 'NXL' 'NYAX' 'PTWO'\n",
      " 'SILO' 'THCH' 'THRD' 'UPWD' 'WLDS' 'YOSH' 'PRME' 'RXO' 'BRNY' 'DVAL'\n",
      " 'FTGS' 'MBLY' 'MCSE' 'MODL' 'QQQS' 'RNEW' 'SLNA' 'SVII' 'VOXR' 'AQU'\n",
      " 'SDSI' 'SHOC' 'BBLU' 'UYLD' 'BWEB' 'BRLN' 'BMN' 'CGMU' 'CGMS' 'CGSD'\n",
      " 'CTM' 'SRHQ' 'DSMC' 'EFXT' 'MISL' 'RDVI' 'XCOR' 'XNAV' 'RYLG' 'GRNT'\n",
      " 'HAPI' 'IQSM' 'IQHI' 'AAA' 'KMET' 'NBCM' 'RTO' 'SCMB' 'HIGH' 'BUCK'\n",
      " 'THYF' 'TSME' 'HFND' 'YALL' 'SHDG' 'NSPL' 'SMOT' 'MNK' 'PERF' 'SATX'\n",
      " 'UHALB' 'FG' 'DMYY' 'FSCO' 'ASPI' 'ACRV' 'GLST' 'QOMO' 'SNAL' 'CMND'\n",
      " 'NWTN' 'NAMS' 'DRS' 'ATAT' 'EFRA' 'ERET' 'OBIL' 'STXD' 'STXG' 'STXK'\n",
      " 'STXV' 'RVRB' 'NVBW' 'NVBT' 'HIDE' 'CARY' 'BKGI' 'SNPG' 'SNPV' 'SNPD'\n",
      " 'DFSB' 'DFSE' 'DFSI' 'DFSU' 'JUCY' 'FDV' 'EIPX' 'TYLG' 'HYLG' 'FYLG'\n",
      " 'MEDI' 'IGTR' 'SFLR' 'TGN' 'HDUS' 'ADPV' 'TUA' 'TFLR' 'PP' 'FIAX' 'OARK'\n",
      " 'TSLY' 'INC' 'MBC' 'BAM' 'ARP' 'DECW' 'DECT' 'BOXX' 'DFGR' 'DFLV' 'DIP'\n",
      " 'STNC' 'ICLO' 'ISDB' 'IMSI' 'HIYS' 'WUGI' 'JHID' 'OAIA' 'RNWZ' 'INTL'\n",
      " 'PBL' 'PJFV' 'PJFG' 'ION' 'CHRG' 'SANE' 'KCAL' 'DKRB' 'SECD' 'FCUS'\n",
      " 'QVOY' 'EQTY' 'PIT' 'VEMY' 'QGRW' 'LANV' 'MRDB' 'BABX' 'CACO' 'COWG'\n",
      " 'COYA' 'ECX' 'EFHT' 'FBL' 'HUDA' 'INFR' 'JEWL' 'KWE' 'LIPO' 'NVDL' 'OSA'\n",
      " 'RAYA' 'TENK' 'POCI' 'CVU' 'DPSI' 'TLF' 'SCWO' 'AIMD' 'SOFO' 'MICS'\n",
      " 'APLD' 'CYTK' 'SVA' 'OBE' 'ASTI' 'ESOA' 'FFHL' 'RSX' 'CO' 'SDRL']\n",
      "867\n"
     ]
    }
   ],
   "source": [
    "print(tickers_to_filter)\n",
    "print(len(tickers_to_filter))"
   ]
  },
  {
   "cell_type": "code",
   "execution_count": 11,
   "id": "f6a8911c-e736-4c7c-b05d-b909397b3c13",
   "metadata": {},
   "outputs": [
    {
     "name": "stdout",
     "output_type": "stream",
     "text": [
      "         Permno Ticker       Date   Returns\n",
      "0         10026   JJSF 2022-01-03  0.007344\n",
      "1         10026   JJSF 2022-01-04 -0.003582\n",
      "2         10026   JJSF 2022-01-05 -0.003406\n",
      "3         10026   JJSF 2022-01-06 -0.000316\n",
      "4         10026   JJSF 2022-01-07  0.004052\n",
      "...         ...    ...        ...       ...\n",
      "2391745   93436   TSLA 2022-12-23 -0.017551\n",
      "2391746   93436   TSLA 2022-12-27 -0.114089\n",
      "2391747   93436   TSLA 2022-12-28  0.033089\n",
      "2391748   93436   TSLA 2022-12-29  0.080827\n",
      "2391749   93436   TSLA 2022-12-30  0.011164\n",
      "\n",
      "[2261755 rows x 4 columns]\n"
     ]
    }
   ],
   "source": [
    "print(filtered_df)"
   ]
  },
  {
   "cell_type": "code",
   "execution_count": 12,
   "id": "94c8d95b-eaba-4c41-8ebe-b65afc358ac8",
   "metadata": {},
   "outputs": [
    {
     "name": "stderr",
     "output_type": "stream",
     "text": [
      "C:\\Users\\joshl\\AppData\\Local\\Temp/ipykernel_27520/320379466.py:2: SettingWithCopyWarning: \n",
      "A value is trying to be set on a copy of a slice from a DataFrame.\n",
      "Try using .loc[row_indexer,col_indexer] = value instead\n",
      "\n",
      "See the caveats in the documentation: https://pandas.pydata.org/pandas-docs/stable/user_guide/indexing.html#returning-a-view-versus-a-copy\n",
      "  filtered_df['Date'] = pd.to_datetime(filtered_df['Date'])\n"
     ]
    },
    {
     "name": "stdout",
     "output_type": "stream",
     "text": [
      "Ticker             A        AA      AAAU       AAC      AACG      AACI  \\\n",
      "Date                                                                     \n",
      "2022-01-03 -0.018541  0.013092 -0.014851  0.002053  0.111630  0.012257   \n",
      "2022-01-04 -0.033806 -0.046885  0.007817  0.002049  1.142857 -0.001009   \n",
      "2022-01-05 -0.017131  0.017730 -0.002770  0.001022 -0.098039 -0.005051   \n",
      "2022-01-06  0.003499 -0.001708 -0.012778 -0.003064 -0.139130 -0.005076   \n",
      "2022-01-07 -0.026623  0.067066  0.005065  0.001025  0.333333  0.007143   \n",
      "...              ...       ...       ...       ...       ...       ...   \n",
      "2022-12-23  0.001476  0.007982  0.003093 -0.000992 -0.006897  0.001992   \n",
      "2022-12-27  0.002144  0.014932  0.008410  0.001986 -0.055556  0.000000   \n",
      "2022-12-28 -0.009763 -0.023629 -0.004726 -0.000991 -0.039044  0.003976   \n",
      "2022-12-29  0.020258  0.063014  0.005866  0.000992  0.032979  0.007921   \n",
      "2022-12-30 -0.008042 -0.023411  0.004721 -0.001982 -0.056815 -0.005894   \n",
      "\n",
      "Ticker          AADI      AADR      AAIC       AAL  ...       ZUO      ZVIA  \\\n",
      "Date                                                ...                       \n",
      "2022-01-03  0.033954  0.002524  0.017143  0.043987  ... -0.017666  0.060993   \n",
      "2022-01-04 -0.019223 -0.000360  0.005618  0.014400  ... -0.019619 -0.017380   \n",
      "2022-01-05 -0.073499 -0.016128 -0.013966 -0.017876  ... -0.067815 -0.002721   \n",
      "2022-01-06 -0.004848  0.004795  0.014164 -0.005889  ... -0.014311 -0.055935   \n",
      "2022-01-07 -0.036758  0.002116  0.002793  0.038234  ...  0.000000  0.001445   \n",
      "...              ...       ...       ...       ...  ...       ...       ...   \n",
      "2022-12-23 -0.007924  0.005986  0.007018  0.011943  ...  0.021127 -0.016529   \n",
      "2022-12-27 -0.042332 -0.011618 -0.003484 -0.014162  ...  0.006897 -0.002801   \n",
      "2022-12-28  0.003336 -0.005038 -0.010490 -0.016760  ...  0.010274  0.036517   \n",
      "2022-12-29  0.045719  0.007595  0.031802  0.030844  ...  0.084746  0.119241   \n",
      "2022-12-30  0.019873  0.000000  0.003425  0.001575  ... -0.006250 -0.009685   \n",
      "\n",
      "Ticker           ZVO      ZVSA      ZWRK       ZWS        ZY      ZYME  \\\n",
      "Date                                                                     \n",
      "2022-01-03  0.102362       NaN -0.001027 -0.003846  0.049327  0.035998   \n",
      "2022-01-04  0.014286       NaN -0.001028  0.019857 -0.089744 -0.045936   \n",
      "2022-01-05 -0.021127       NaN  0.002058 -0.035965 -0.109546 -0.067901   \n",
      "2022-01-06 -0.057554       NaN  0.001027 -0.004208  0.001757 -0.068212   \n",
      "2022-01-07 -0.007634       NaN  0.000000 -0.023380 -0.001754  0.002843   \n",
      "...              ...       ...       ...       ...       ...       ...   \n",
      "2022-12-23       NaN -0.115226       NaN  0.005631       NaN -0.085324   \n",
      "2022-12-27       NaN -0.104651       NaN  0.005600       NaN -0.068408   \n",
      "2022-12-28       NaN -0.137662       NaN -0.014849       NaN  0.000000   \n",
      "2022-12-29       NaN -0.066265       NaN  0.027320       NaN  0.042724   \n",
      "2022-12-30       NaN  0.012903       NaN -0.030261       NaN  0.006402   \n",
      "\n",
      "Ticker          ZYNE      ZYXI  \n",
      "Date                            \n",
      "2022-01-03  0.048611  0.032096  \n",
      "2022-01-04 -0.023179 -0.025267  \n",
      "2022-01-05 -0.091525  0.029910  \n",
      "2022-01-06  0.007463 -0.045161  \n",
      "2022-01-07 -0.003704 -0.046171  \n",
      "...              ...       ...  \n",
      "2022-12-23 -0.000185  0.015441  \n",
      "2022-12-27 -0.073903 -0.003621  \n",
      "2022-12-28  0.031400  0.008721  \n",
      "2022-12-29  0.099283 -0.000720  \n",
      "2022-12-30 -0.065091  0.002884  \n",
      "\n",
      "[251 rows x 9418 columns]\n"
     ]
    }
   ],
   "source": [
    "# Convert the date column to datetime if it's not already\n",
    "filtered_df['Date'] = pd.to_datetime(filtered_df['Date'])\n",
    "\n",
    "# Use pivot_table with aggregation (mean) to handle duplicates\n",
    "pivot_df = filtered_df.pivot_table(index='Date', columns='Ticker', values='Returns', aggfunc='mean')\n",
    "\n",
    "# Now pivot_df is a matrix where columns represent different tickers and rows represent different days\n",
    "print(pivot_df)"
   ]
  },
  {
   "cell_type": "code",
   "execution_count": 13,
   "id": "b7d0db9c-118b-4d0c-bc1b-c78618deb2f4",
   "metadata": {},
   "outputs": [
    {
     "name": "stdout",
     "output_type": "stream",
     "text": [
      "<class 'pandas.core.frame.DataFrame'>\n"
     ]
    }
   ],
   "source": [
    "print(type(pivot_df))"
   ]
  },
  {
   "cell_type": "code",
   "execution_count": 16,
   "id": "87370841-8841-485e-b906-7b945a003f36",
   "metadata": {},
   "outputs": [
    {
     "name": "stdout",
     "output_type": "stream",
     "text": [
      "[[-0.018541  0.013092 -0.014851 ...  0.035998  0.048611  0.032096]\n",
      " [-0.033806 -0.046885  0.007817 ... -0.045936 -0.023179 -0.025267]\n",
      " [-0.017131  0.01773  -0.00277  ... -0.067901 -0.091525  0.02991 ]\n",
      " ...\n",
      " [-0.009763 -0.023629 -0.004726 ...  0.        0.0314    0.008721]\n",
      " [ 0.020258  0.063014  0.005866 ...  0.042724  0.099283 -0.00072 ]\n",
      " [-0.008042 -0.023411  0.004721 ...  0.006402 -0.065091  0.002884]]\n"
     ]
    }
   ],
   "source": [
    "matrix_data = pivot_df.values\n",
    "print(matrix_data)"
   ]
  },
  {
   "cell_type": "code",
   "execution_count": 17,
   "id": "c2fb6910-08f6-4987-801f-8874477fbb1c",
   "metadata": {},
   "outputs": [
    {
     "name": "stdout",
     "output_type": "stream",
     "text": [
      "nan\n"
     ]
    }
   ],
   "source": [
    "# matrix_data[day][ticker]\n",
    "print(matrix_data[-1][-4])"
   ]
  },
  {
   "cell_type": "code",
   "execution_count": 18,
   "id": "78d3bacd-7cb4-40be-8f04-f264c2fe5975",
   "metadata": {},
   "outputs": [],
   "source": [
    "# Function that does everything above:\n",
    "def convert(df):\n",
    "    # Convert the date column to datetime if it's not already\n",
    "        df['Date'] = pd.to_datetime(df['Date'])\n",
    "\n",
    "        # Create a mask for tickers with 0 or NaN values between Jan 1, 2022, and Dec 30, 2022\n",
    "        mask = ((df['Date'] >= '2022-01-01') & (df['Date'] <= '2022-12-30')) & (df.isin([np.nan]).any(axis=1))\n",
    "\n",
    "        # Get tickers to filter out\n",
    "        tickers_to_filter = df[mask]['Ticker'].unique()\n",
    "\n",
    "        # Filter the DataFrame to exclude rows with tickers having 0 or NaN values\n",
    "        filtered_df = df[~df['Ticker'].isin(tickers_to_filter)]\n",
    "\n",
    "        # Convert the date column to datetime if it's not already\n",
    "        filtered_df['Date'] = pd.to_datetime(filtered_df['Date'])\n",
    "\n",
    "        # Use pivot_table with aggregation (mean) to handle duplicates\n",
    "        pivot_df = filtered_df.pivot_table(index='Date', columns='Ticker', values='Returns', aggfunc='mean')\n",
    "\n",
    "        matrix_data = pivot_df.values\n",
    "\n",
    "        return matrix_data"
   ]
  },
  {
   "cell_type": "code",
   "execution_count": 20,
   "id": "31eaf4b5-6a6b-4ebb-8e26-6e7d762e5373",
   "metadata": {},
   "outputs": [
    {
     "name": "stderr",
     "output_type": "stream",
     "text": [
      "C:\\Users\\joshl\\AppData\\Local\\Temp/ipykernel_27520/1320999599.py:16: SettingWithCopyWarning: \n",
      "A value is trying to be set on a copy of a slice from a DataFrame.\n",
      "Try using .loc[row_indexer,col_indexer] = value instead\n",
      "\n",
      "See the caveats in the documentation: https://pandas.pydata.org/pandas-docs/stable/user_guide/indexing.html#returning-a-view-versus-a-copy\n",
      "  filtered_df['Date'] = pd.to_datetime(filtered_df['Date'])\n"
     ]
    },
    {
     "name": "stdout",
     "output_type": "stream",
     "text": [
      "[[-0.018541  0.013092 -0.014851 ...  0.035998  0.048611  0.032096]\n",
      " [-0.033806 -0.046885  0.007817 ... -0.045936 -0.023179 -0.025267]\n",
      " [-0.017131  0.01773  -0.00277  ... -0.067901 -0.091525  0.02991 ]\n",
      " ...\n",
      " [-0.009763 -0.023629 -0.004726 ...  0.        0.0314    0.008721]\n",
      " [ 0.020258  0.063014  0.005866 ...  0.042724  0.099283 -0.00072 ]\n",
      " [-0.008042 -0.023411  0.004721 ...  0.006402 -0.065091  0.002884]]\n"
     ]
    }
   ],
   "source": [
    "matrix_data_unfiltered = convert(df)\n",
    "print(matrix_data_unfiltered)"
   ]
  },
  {
   "cell_type": "code",
   "execution_count": 21,
   "id": "65354ab2-202c-4be9-9342-e1427c855dec",
   "metadata": {},
   "outputs": [
    {
     "name": "stdout",
     "output_type": "stream",
     "text": [
      "[[0.00010618]\n",
      " [0.00010618]\n",
      " [0.00010618]\n",
      " ...\n",
      " [0.00010618]\n",
      " [0.00010618]\n",
      " [0.00010618]]\n"
     ]
    }
   ],
   "source": [
    "weight = np.full((9418, 1), 1/9418)\n",
    "print(weight)"
   ]
  },
  {
   "cell_type": "code",
   "execution_count": 22,
   "id": "1bbe86ab-f23f-4530-8b1c-2b5c8ce5d14f",
   "metadata": {},
   "outputs": [
    {
     "name": "stdout",
     "output_type": "stream",
     "text": [
      "9418\n",
      "1\n"
     ]
    }
   ],
   "source": [
    "print(len(weight))\n",
    "print(len(weight[0]))"
   ]
  },
  {
   "cell_type": "code",
   "execution_count": null,
   "id": "d885783c-9e57-4f32-ad23-8bad15882e28",
   "metadata": {},
   "outputs": [],
   "source": []
  }
 ],
 "metadata": {
  "kernelspec": {
   "display_name": "Python 3 (ipykernel)",
   "language": "python",
   "name": "python3"
  },
  "language_info": {
   "codemirror_mode": {
    "name": "ipython",
    "version": 3
   },
   "file_extension": ".py",
   "mimetype": "text/x-python",
   "name": "python",
   "nbconvert_exporter": "python",
   "pygments_lexer": "ipython3",
   "version": "3.9.7"
  }
 },
 "nbformat": 4,
 "nbformat_minor": 5
}
