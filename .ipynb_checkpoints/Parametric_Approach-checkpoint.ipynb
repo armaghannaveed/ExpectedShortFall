{
 "cells": [
  {
   "cell_type": "code",
   "execution_count": 10,
   "metadata": {},
   "outputs": [],
   "source": [
    "import pandas as pd\n",
    "import numpy as np\n",
    "import datetime\n",
    "from datetime import date\n",
    "import scipy.stats as st\n",
    "import sympy as sp\n",
    "import scipy.integrate as si\n",
    "import math"
   ]
  },
  {
   "cell_type": "code",
   "execution_count": 2,
   "metadata": {},
   "outputs": [
    {
     "name": "stderr",
     "output_type": "stream",
     "text": [
      "/var/folders/9x/zgzyj9l153v5qjjz_hdvd31r0000gn/T/ipykernel_36701/877988600.py:1: DtypeWarning: Columns (3) have mixed types. Specify dtype option on import or set low_memory=False.\n",
      "  company_dataset = pd.read_csv(\"Data/CRSP_stocks_clean.csv\")\n"
     ]
    }
   ],
   "source": [
    "company_dataset = pd.read_csv(\"Data/CRSP_stocks_clean.csv\")"
   ]
  },
  {
   "cell_type": "code",
   "execution_count": 3,
   "metadata": {},
   "outputs": [
    {
     "data": {
      "text/html": [
       "<div>\n",
       "<style scoped>\n",
       "    .dataframe tbody tr th:only-of-type {\n",
       "        vertical-align: middle;\n",
       "    }\n",
       "\n",
       "    .dataframe tbody tr th {\n",
       "        vertical-align: top;\n",
       "    }\n",
       "\n",
       "    .dataframe thead th {\n",
       "        text-align: right;\n",
       "    }\n",
       "</style>\n",
       "<table border=\"1\" class=\"dataframe\">\n",
       "  <thead>\n",
       "    <tr style=\"text-align: right;\">\n",
       "      <th></th>\n",
       "      <th>Unnamed: 0</th>\n",
       "      <th>date</th>\n",
       "      <th>TICKER</th>\n",
       "      <th>CUSIP</th>\n",
       "      <th>PRC</th>\n",
       "      <th>RET</th>\n",
       "      <th>VOL</th>\n",
       "      <th>BID</th>\n",
       "      <th>ASK</th>\n",
       "      <th>SHROUT</th>\n",
       "    </tr>\n",
       "  </thead>\n",
       "  <tbody>\n",
       "    <tr>\n",
       "      <th>636697</th>\n",
       "      <td>887</td>\n",
       "      <td>2000-01-03</td>\n",
       "      <td>AA</td>\n",
       "      <td>44320110</td>\n",
       "      <td>80.9375</td>\n",
       "      <td>-0.024849</td>\n",
       "      <td>1551299.0</td>\n",
       "      <td>80.750</td>\n",
       "      <td>81.125</td>\n",
       "      <td>366407.0</td>\n",
       "    </tr>\n",
       "    <tr>\n",
       "      <th>636698</th>\n",
       "      <td>9421</td>\n",
       "      <td>2000-01-04</td>\n",
       "      <td>AA</td>\n",
       "      <td>44320110</td>\n",
       "      <td>81.3125</td>\n",
       "      <td>0.004633</td>\n",
       "      <td>2234799.0</td>\n",
       "      <td>81.125</td>\n",
       "      <td>81.500</td>\n",
       "      <td>366407.0</td>\n",
       "    </tr>\n",
       "    <tr>\n",
       "      <th>636699</th>\n",
       "      <td>17954</td>\n",
       "      <td>2000-01-05</td>\n",
       "      <td>AA</td>\n",
       "      <td>44320110</td>\n",
       "      <td>86.0000</td>\n",
       "      <td>0.057648</td>\n",
       "      <td>3121599.0</td>\n",
       "      <td>85.750</td>\n",
       "      <td>86.250</td>\n",
       "      <td>366407.0</td>\n",
       "    </tr>\n",
       "    <tr>\n",
       "      <th>636700</th>\n",
       "      <td>26490</td>\n",
       "      <td>2000-01-06</td>\n",
       "      <td>AA</td>\n",
       "      <td>44320110</td>\n",
       "      <td>84.8750</td>\n",
       "      <td>-0.013081</td>\n",
       "      <td>4494699.0</td>\n",
       "      <td>84.625</td>\n",
       "      <td>85.125</td>\n",
       "      <td>366407.0</td>\n",
       "    </tr>\n",
       "    <tr>\n",
       "      <th>636701</th>\n",
       "      <td>35023</td>\n",
       "      <td>2000-01-07</td>\n",
       "      <td>AA</td>\n",
       "      <td>44320110</td>\n",
       "      <td>84.6250</td>\n",
       "      <td>-0.002946</td>\n",
       "      <td>4534699.0</td>\n",
       "      <td>85.000</td>\n",
       "      <td>85.375</td>\n",
       "      <td>366407.0</td>\n",
       "    </tr>\n",
       "    <tr>\n",
       "      <th>...</th>\n",
       "      <td>...</td>\n",
       "      <td>...</td>\n",
       "      <td>...</td>\n",
       "      <td>...</td>\n",
       "      <td>...</td>\n",
       "      <td>...</td>\n",
       "      <td>...</td>\n",
       "      <td>...</td>\n",
       "      <td>...</td>\n",
       "      <td>...</td>\n",
       "    </tr>\n",
       "    <tr>\n",
       "      <th>640927</th>\n",
       "      <td>30094608</td>\n",
       "      <td>2016-10-25</td>\n",
       "      <td>AA</td>\n",
       "      <td>44320110</td>\n",
       "      <td>27.2900</td>\n",
       "      <td>0.016009</td>\n",
       "      <td>9682861.0</td>\n",
       "      <td>27.290</td>\n",
       "      <td>27.300</td>\n",
       "      <td>438460.0</td>\n",
       "    </tr>\n",
       "    <tr>\n",
       "      <th>640928</th>\n",
       "      <td>30101849</td>\n",
       "      <td>2016-10-26</td>\n",
       "      <td>AA</td>\n",
       "      <td>44320110</td>\n",
       "      <td>27.7900</td>\n",
       "      <td>0.018322</td>\n",
       "      <td>7794174.0</td>\n",
       "      <td>27.790</td>\n",
       "      <td>27.800</td>\n",
       "      <td>438460.0</td>\n",
       "    </tr>\n",
       "    <tr>\n",
       "      <th>640929</th>\n",
       "      <td>30109093</td>\n",
       "      <td>2016-10-27</td>\n",
       "      <td>AA</td>\n",
       "      <td>44320110</td>\n",
       "      <td>28.2200</td>\n",
       "      <td>0.015473</td>\n",
       "      <td>9271414.0</td>\n",
       "      <td>28.210</td>\n",
       "      <td>28.220</td>\n",
       "      <td>438460.0</td>\n",
       "    </tr>\n",
       "    <tr>\n",
       "      <th>640930</th>\n",
       "      <td>30116338</td>\n",
       "      <td>2016-10-28</td>\n",
       "      <td>AA</td>\n",
       "      <td>44320110</td>\n",
       "      <td>28.3700</td>\n",
       "      <td>0.005315</td>\n",
       "      <td>8937600.0</td>\n",
       "      <td>28.360</td>\n",
       "      <td>28.370</td>\n",
       "      <td>438460.0</td>\n",
       "    </tr>\n",
       "    <tr>\n",
       "      <th>640931</th>\n",
       "      <td>30123586</td>\n",
       "      <td>2016-10-31</td>\n",
       "      <td>AA</td>\n",
       "      <td>44320110</td>\n",
       "      <td>28.7200</td>\n",
       "      <td>0.012337</td>\n",
       "      <td>10628813.0</td>\n",
       "      <td>28.720</td>\n",
       "      <td>28.730</td>\n",
       "      <td>438000.0</td>\n",
       "    </tr>\n",
       "  </tbody>\n",
       "</table>\n",
       "<p>4235 rows × 10 columns</p>\n",
       "</div>"
      ],
      "text/plain": [
       "        Unnamed: 0        date TICKER     CUSIP      PRC       RET  \\\n",
       "636697         887  2000-01-03     AA  44320110  80.9375 -0.024849   \n",
       "636698        9421  2000-01-04     AA  44320110  81.3125  0.004633   \n",
       "636699       17954  2000-01-05     AA  44320110  86.0000  0.057648   \n",
       "636700       26490  2000-01-06     AA  44320110  84.8750 -0.013081   \n",
       "636701       35023  2000-01-07     AA  44320110  84.6250 -0.002946   \n",
       "...            ...         ...    ...       ...      ...       ...   \n",
       "640927    30094608  2016-10-25     AA  44320110  27.2900  0.016009   \n",
       "640928    30101849  2016-10-26     AA  44320110  27.7900  0.018322   \n",
       "640929    30109093  2016-10-27     AA  44320110  28.2200  0.015473   \n",
       "640930    30116338  2016-10-28     AA  44320110  28.3700  0.005315   \n",
       "640931    30123586  2016-10-31     AA  44320110  28.7200  0.012337   \n",
       "\n",
       "               VOL     BID     ASK    SHROUT  \n",
       "636697   1551299.0  80.750  81.125  366407.0  \n",
       "636698   2234799.0  81.125  81.500  366407.0  \n",
       "636699   3121599.0  85.750  86.250  366407.0  \n",
       "636700   4494699.0  84.625  85.125  366407.0  \n",
       "636701   4534699.0  85.000  85.375  366407.0  \n",
       "...            ...     ...     ...       ...  \n",
       "640927   9682861.0  27.290  27.300  438460.0  \n",
       "640928   7794174.0  27.790  27.800  438460.0  \n",
       "640929   9271414.0  28.210  28.220  438460.0  \n",
       "640930   8937600.0  28.360  28.370  438460.0  \n",
       "640931  10628813.0  28.720  28.730  438000.0  \n",
       "\n",
       "[4235 rows x 10 columns]"
      ]
     },
     "execution_count": 3,
     "metadata": {},
     "output_type": "execute_result"
    }
   ],
   "source": [
    "company_dataset[company_dataset[\"TICKER\"]==\"AA\"]"
   ]
  },
  {
   "cell_type": "code",
   "execution_count": 68,
   "metadata": {
    "scrolled": true
   },
   "outputs": [
    {
     "ename": "AttributeError",
     "evalue": "'Timestamp' object has no attribute 'tostring'",
     "output_type": "error",
     "traceback": [
      "\u001b[0;31m---------------------------------------------------------------------------\u001b[0m",
      "\u001b[0;31mAttributeError\u001b[0m                            Traceback (most recent call last)",
      "Cell \u001b[0;32mIn[68], line 5\u001b[0m\n\u001b[1;32m      3\u001b[0m \u001b[38;5;66;03m#create historical mean starting date, should be about 3 years from current\u001b[39;00m\n\u001b[1;32m      4\u001b[0m historicalstart \u001b[38;5;241m=\u001b[39m (pd\u001b[38;5;241m.\u001b[39mto_datetime(date(\u001b[38;5;241m2019\u001b[39m,\u001b[38;5;241m12\u001b[39m,\u001b[38;5;241m30\u001b[39m)))\n\u001b[0;32m----> 5\u001b[0m \u001b[38;5;28mprint\u001b[39m(\u001b[43m(\u001b[49m\u001b[43mtoday\u001b[49m\u001b[43m)\u001b[49m\u001b[38;5;241;43m.\u001b[39;49m\u001b[43mtostring\u001b[49m())\n\u001b[1;32m      6\u001b[0m \u001b[38;5;66;03m#pre-set lambda value\u001b[39;00m\n\u001b[1;32m      7\u001b[0m Lambda \u001b[38;5;241m=\u001b[39m \u001b[38;5;241m0.97\u001b[39m\n",
      "\u001b[0;31mAttributeError\u001b[0m: 'Timestamp' object has no attribute 'tostring'"
     ]
    }
   ],
   "source": [
    "#to change when we have more recent data\n",
    "today = pd.to_datetime(date(2022, 12, 30))\n",
    "#create historical mean starting date, should be about 3 years from current\n",
    "historicalstart = (pd.to_datetime(date(2019,12,30)))\n",
    "#pre-set lambda value\n",
    "Lambda = 0.97\n",
    "alpha = 0.01"
   ]
  },
  {
   "cell_type": "code",
   "execution_count": 5,
   "metadata": {},
   "outputs": [
    {
     "name": "stdout",
     "output_type": "stream",
     "text": [
      "Unnamed: 0      int64\n",
      "date           object\n",
      "TICKER         object\n",
      "CUSIP          object\n",
      "PRC           float64\n",
      "RET           float64\n",
      "VOL           float64\n",
      "BID           float64\n",
      "ASK           float64\n",
      "SHROUT        float64\n",
      "dtype: object\n"
     ]
    }
   ],
   "source": [
    "testdf = company_dataset\n",
    "testdf = testdf[testdf['TICKER']=='AAPL']\n",
    "print(testdf.dtypes)"
   ]
  },
  {
   "cell_type": "code",
   "execution_count": 21,
   "metadata": {},
   "outputs": [],
   "source": [
    "def ConditionalMean(returns,startdate):\n",
    "    #filter rows where date is after startdate\n",
    "    conditionalMeanDF = returns[returns['date'] > startdate]\n",
    "    #take the mean return\n",
    "    conditionalmean = conditionalMeanDF[\"RET\"].mean()\n",
    "    return conditionalmean\n",
    "\n",
    "def VolatilityDF(returns):\n",
    "   #Calculate standard deviation of returns\n",
    "    volatilitydf = returns\n",
    "    volatilitydf.set_index('date',inplace=True)\n",
    "    volatilitydf[\"Variance\"] = volatilitydf.rolling(window=22).var()\n",
    "    volatilitydf[\"Std\"] = np.sqrt(volatilitydf[\"Variance\"])\n",
    "    volatilitydf = volatilitydf.reset_index()\n",
    "    return(volatilitydf)\n",
    "\n",
    "def ConditionalVariance(volatilitydf,today):\n",
    "    yesterday = volatilitydf[[\"date\"] == (today- datetime.timedelta(days=1)).date()]\n",
    "    today = volatilitydf[[\"date\"] == today]\n",
    "    yesterdayReturn = yesterday.iloc[0][\"RET\"]\n",
    "    yesterdayVariance = yesterday.iloc[0][\"Variance\"]\n",
    "    conditionalvariance = sqrt((Lambda*yesterdayVariance)+ (1-Lambda)*yesterdayReturn)\n",
    "    return conditionalvariance\n",
    "def ExpZScore(alpha):\n",
    "    pi = math.pi\n",
    "    return (((1 / math.sqrt(2*pi)) * math.exp(-x**2/2))*x/0.01)\n",
    "    lower_limit = -sp.oo  # Negative infinity\n",
    "    upper_limit = st.norm.ppf(alpha)\n",
    "    expectedZscore = si.quad(ZScore,lower_limit, upper_limit)[0]\n",
    "    return(expectedZscore)  "
   ]
  },
  {
   "cell_type": "code",
   "execution_count": 69,
   "metadata": {},
   "outputs": [],
   "source": [
    "# groupy by ticker\n",
    "grouped_data = company_dataset.groupby('TICKER')\n",
    "returns = pd.DataFrame({})\n",
    "for ticker,data in grouped_data:\n",
    "    #creating a returns dataframe for each ticker with return and date columns, then indexing by date\n",
    "    returns = data[['RET','date']].dropna()\n",
    "    returns['date'] = pd.to_datetime(returns['date'])\n",
    "    if (today in returns['date']):\n",
    "        returns.set_index('date',inplace=True)\n",
    "        returns = returns.rolling(window=22).mean()\n",
    "        returns = returns.reset_index()\n",
    "        condmean = ConditionalMean(returns,historicalstart)\n",
    "        volatilitydf = VolatilityDF(returns)\n",
    "        conditionalvariance = ConditionalVariance(volatilitydf,today)\n",
    "        expzscore = ExpZScore(alpha)\n",
    "        print(expzscore, conditionalvariance, volatilitydf, condmean)\n",
    "        expectedshortfall = condmean + conditionalvariance * expzscore\n",
    "        print(expectedshortfall)\n",
    "    else:\n",
    "        pass"
   ]
  },
  {
   "cell_type": "code",
   "execution_count": 20,
   "metadata": {},
   "outputs": [
    {
     "data": {
      "text/plain": [
       "datetime.date(2022, 12, 29)"
      ]
     },
     "execution_count": 20,
     "metadata": {},
     "output_type": "execute_result"
    }
   ],
   "source": [
    "(today - datetime.timedelta(1)).date()"
   ]
  },
  {
   "cell_type": "code",
   "execution_count": 67,
   "metadata": {},
   "outputs": [
    {
     "name": "stdout",
     "output_type": "stream",
     "text": [
      "2000-01-03\n",
      "<class 'pandas._libs.tslibs.timestamps.Timestamp'>\n",
      "<class 'numpy.datetime64'>\n"
     ]
    },
    {
     "data": {
      "text/plain": [
       "False"
      ]
     },
     "execution_count": 67,
     "metadata": {},
     "output_type": "execute_result"
    }
   ],
   "source": [
    "print(company_dataset['date'][0])\n",
    "jj = pd.to_datetime(company_dataset['date']).dt.date\n",
    "jj = pd.to_datetime(jj)\n",
    "jj\n",
    "print(type(jj[1]))\n",
    "print(type((historicalstart)))\n",
    "historicalstart in jj"
   ]
  }
 ],
 "metadata": {
  "kernelspec": {
   "display_name": "Python 3 (ipykernel)",
   "language": "python",
   "name": "python3"
  },
  "language_info": {
   "codemirror_mode": {
    "name": "ipython",
    "version": 3
   },
   "file_extension": ".py",
   "mimetype": "text/x-python",
   "name": "python",
   "nbconvert_exporter": "python",
   "pygments_lexer": "ipython3",
   "version": "3.10.0"
  }
 },
 "nbformat": 4,
 "nbformat_minor": 4
}
